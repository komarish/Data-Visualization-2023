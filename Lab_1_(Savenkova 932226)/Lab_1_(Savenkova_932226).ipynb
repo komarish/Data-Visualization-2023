{
  "nbformat": 4,
  "nbformat_minor": 0,
  "metadata": {
    "colab": {
      "provenance": [],
      "toc_visible": true
    },
    "kernelspec": {
      "name": "python3",
      "display_name": "Python 3"
    },
    "language_info": {
      "name": "python"
    }
  },
  "cells": [
    {
      "cell_type": "markdown",
      "source": [
        "# Лаб. №1: понятие многомерных данных"
      ],
      "metadata": {
        "id": "PV_58QYOmu0A"
      }
    },
    {
      "cell_type": "markdown",
      "source": [
        "Влияние оружия на преступность в Америке вызвало множество общественных дебатов. Многие твердо убеждены, что законы штата, разрешающие гражданам носить скрытое огнестрельное оружие, привели к снижению преступности. Согласно этой точке зрения, законы о контроле над огнестрельным оружием отбирают оружие у законопослушных граждан, в то время как потенциальные преступники игнорируют их, оставляя потенциальных жертв беззащитными. В результате многие штаты Соединенных Штатов приняли законы о праве на ношение оружия (также известные как законы о выдаче оружия). \n",
        "\n",
        "\n",
        "Для анализа был выбран датасет \"More Guns, Less Crime?\", представляющий собой набор данных по 50 штатам США плюс округ Колумбия (в общей сложности 51 штат), с разбивкой по годам за 1977-1999 годы.\n",
        "\n",
        "\n",
        "Описание датасета: https://vincentarelbundock.github.io/Rdatasets/doc/AER/Guns.html"
      ],
      "metadata": {
        "id": "fgbxiclWm-B2"
      }
    },
    {
      "cell_type": "markdown",
      "source": [
        "# Описание данных"
      ],
      "metadata": {
        "id": "qZh-MiIrozL6"
      }
    },
    {
      "cell_type": "markdown",
      "source": [
        "Данные являются многомерными, поскольку для каждого года фиксируется вектор наблюдений. Каждая запись характеризуется 13-ю признаками:\n",
        "\n",
        "1) state - фактор, указывающий на штат;\n",
        "\n",
        "2) year - год, к которому относятся данные;\n",
        "\n",
        "3) violent - уровень насильственных преступлений (инциденты на 100 000 человек населения);\n",
        "\n",
        "4) murder - уровень убийств (инцидент на 100 000);\n",
        "\n",
        "5) robbery - частота ограблений (инцидент на 100 000);\n",
        "\n",
        "6) prisoners - количество заключенных в предыдущем году (осужденные на 100 000 жителей; значение за предыдущий год);\n",
        "\n",
        "7) afam - процент афроамериканцев от населения штата в возрасте от 10 до 64 лет;\n",
        "\n",
        "8) caucasus - процент населения штата, являющегося европеоидом, в возрасте от 10 до 64 лет;\n",
        "\n",
        "9) male - процентная доля мужского населения штата в возрасте от 10 до 29 лет;\n",
        "\n",
        "10) population - население штата, в миллионах человек;\n",
        "\n",
        "11) income - реальный личный доход на душу населения в штате (доллары США);\n",
        "\n",
        "12) density - численность населения на квадратную милю площади суши, деленная на 1000;\n",
        "\n",
        "13) law - фактор. Действует ли в этом году в штате закон о ношении оружия*?\n",
        "\n",
        "*Закон о ношении оружия - это закон, который требует, чтобы правительства выдавали разрешения на скрытое ношение оружия любому заявителю, который соответствует необходимым критериям. Вторая поправка к Конституции Соединенных Штатов защищает право хранить и носить оружие, также известна как закон о ношении оружия."
      ],
      "metadata": {
        "id": "QU6NT88vo4pO"
      }
    },
    {
      "cell_type": "code",
      "source": [
        "# импорт библиотек\n",
        "\n",
        "import pandas as pd"
      ],
      "metadata": {
        "id": "GKRqcGXTwro0"
      },
      "execution_count": null,
      "outputs": []
    },
    {
      "cell_type": "code",
      "source": [
        "# чтение файла с диска и загрузка в датафрейм\n",
        "\n",
        "path = \"/content/drive/MyDrive/STUDY/Представление знаний и визуализация данных/Lab_1/Guns.csv\"\n",
        "df = pd.read_csv(path, index_col=0) #index_col=0 - убираем нумерацию строк\n",
        "df.shape #размерность данных"
      ],
      "metadata": {
        "colab": {
          "base_uri": "https://localhost:8080/"
        },
        "id": "RE8FAUSLvg5N",
        "outputId": "9959bd84-ff21-4757-9e8c-c60280947cb6"
      },
      "execution_count": null,
      "outputs": [
        {
          "output_type": "execute_result",
          "data": {
            "text/plain": [
              "(1173, 13)"
            ]
          },
          "metadata": {},
          "execution_count": 38
        }
      ]
    },
    {
      "cell_type": "code",
      "source": [
        "list(df.columns) #вывод имен столбцов"
      ],
      "metadata": {
        "colab": {
          "base_uri": "https://localhost:8080/"
        },
        "id": "90O2UEwizTjI",
        "outputId": "5a069e7a-7730-405d-b53e-2649a7d73972"
      },
      "execution_count": null,
      "outputs": [
        {
          "output_type": "execute_result",
          "data": {
            "text/plain": [
              "['year',\n",
              " 'violent',\n",
              " 'murder',\n",
              " 'robbery',\n",
              " 'prisoners',\n",
              " 'afam',\n",
              " 'cauc',\n",
              " 'male',\n",
              " 'population',\n",
              " 'income',\n",
              " 'density',\n",
              " 'state',\n",
              " 'law']"
            ]
          },
          "metadata": {},
          "execution_count": 34
        }
      ]
    },
    {
      "cell_type": "code",
      "source": [
        "# выводим первые пять строк\n",
        "\n",
        "df.head(5)"
      ],
      "metadata": {
        "colab": {
          "base_uri": "https://localhost:8080/",
          "height": 206
        },
        "id": "rHyMCg0Wwi58",
        "outputId": "38e70353-76b2-4fe2-d843-753ce40d5d98"
      },
      "execution_count": null,
      "outputs": [
        {
          "output_type": "execute_result",
          "data": {
            "text/plain": [
              "   year  violent  murder  robbery  prisoners      afam      cauc      male  \\\n",
              "1  1977    414.4    14.2     96.8         83  8.384873  55.12291  18.17441   \n",
              "2  1978    419.1    13.3     99.1         94  8.352101  55.14367  17.99408   \n",
              "3  1979    413.3    13.2    109.5        144  8.329575  55.13586  17.83934   \n",
              "4  1980    448.5    13.2    132.1        141  8.408386  54.91259  17.73420   \n",
              "5  1981    470.5    11.9    126.5        149  8.483435  54.92513  17.67372   \n",
              "\n",
              "   population    income   density    state law  \n",
              "1    3.780403  9563.148  0.074552  Alabama  no  \n",
              "2    3.831838  9932.000  0.075567  Alabama  no  \n",
              "3    3.866248  9877.028  0.076245  Alabama  no  \n",
              "4    3.900368  9541.428  0.076829  Alabama  no  \n",
              "5    3.918531  9548.351  0.077187  Alabama  no  "
            ],
            "text/html": [
              "\n",
              "  <div id=\"df-2ed9c06e-6284-4671-8acb-682edfc9538f\">\n",
              "    <div class=\"colab-df-container\">\n",
              "      <div>\n",
              "<style scoped>\n",
              "    .dataframe tbody tr th:only-of-type {\n",
              "        vertical-align: middle;\n",
              "    }\n",
              "\n",
              "    .dataframe tbody tr th {\n",
              "        vertical-align: top;\n",
              "    }\n",
              "\n",
              "    .dataframe thead th {\n",
              "        text-align: right;\n",
              "    }\n",
              "</style>\n",
              "<table border=\"1\" class=\"dataframe\">\n",
              "  <thead>\n",
              "    <tr style=\"text-align: right;\">\n",
              "      <th></th>\n",
              "      <th>year</th>\n",
              "      <th>violent</th>\n",
              "      <th>murder</th>\n",
              "      <th>robbery</th>\n",
              "      <th>prisoners</th>\n",
              "      <th>afam</th>\n",
              "      <th>cauc</th>\n",
              "      <th>male</th>\n",
              "      <th>population</th>\n",
              "      <th>income</th>\n",
              "      <th>density</th>\n",
              "      <th>state</th>\n",
              "      <th>law</th>\n",
              "    </tr>\n",
              "  </thead>\n",
              "  <tbody>\n",
              "    <tr>\n",
              "      <th>1</th>\n",
              "      <td>1977</td>\n",
              "      <td>414.4</td>\n",
              "      <td>14.2</td>\n",
              "      <td>96.8</td>\n",
              "      <td>83</td>\n",
              "      <td>8.384873</td>\n",
              "      <td>55.12291</td>\n",
              "      <td>18.17441</td>\n",
              "      <td>3.780403</td>\n",
              "      <td>9563.148</td>\n",
              "      <td>0.074552</td>\n",
              "      <td>Alabama</td>\n",
              "      <td>no</td>\n",
              "    </tr>\n",
              "    <tr>\n",
              "      <th>2</th>\n",
              "      <td>1978</td>\n",
              "      <td>419.1</td>\n",
              "      <td>13.3</td>\n",
              "      <td>99.1</td>\n",
              "      <td>94</td>\n",
              "      <td>8.352101</td>\n",
              "      <td>55.14367</td>\n",
              "      <td>17.99408</td>\n",
              "      <td>3.831838</td>\n",
              "      <td>9932.000</td>\n",
              "      <td>0.075567</td>\n",
              "      <td>Alabama</td>\n",
              "      <td>no</td>\n",
              "    </tr>\n",
              "    <tr>\n",
              "      <th>3</th>\n",
              "      <td>1979</td>\n",
              "      <td>413.3</td>\n",
              "      <td>13.2</td>\n",
              "      <td>109.5</td>\n",
              "      <td>144</td>\n",
              "      <td>8.329575</td>\n",
              "      <td>55.13586</td>\n",
              "      <td>17.83934</td>\n",
              "      <td>3.866248</td>\n",
              "      <td>9877.028</td>\n",
              "      <td>0.076245</td>\n",
              "      <td>Alabama</td>\n",
              "      <td>no</td>\n",
              "    </tr>\n",
              "    <tr>\n",
              "      <th>4</th>\n",
              "      <td>1980</td>\n",
              "      <td>448.5</td>\n",
              "      <td>13.2</td>\n",
              "      <td>132.1</td>\n",
              "      <td>141</td>\n",
              "      <td>8.408386</td>\n",
              "      <td>54.91259</td>\n",
              "      <td>17.73420</td>\n",
              "      <td>3.900368</td>\n",
              "      <td>9541.428</td>\n",
              "      <td>0.076829</td>\n",
              "      <td>Alabama</td>\n",
              "      <td>no</td>\n",
              "    </tr>\n",
              "    <tr>\n",
              "      <th>5</th>\n",
              "      <td>1981</td>\n",
              "      <td>470.5</td>\n",
              "      <td>11.9</td>\n",
              "      <td>126.5</td>\n",
              "      <td>149</td>\n",
              "      <td>8.483435</td>\n",
              "      <td>54.92513</td>\n",
              "      <td>17.67372</td>\n",
              "      <td>3.918531</td>\n",
              "      <td>9548.351</td>\n",
              "      <td>0.077187</td>\n",
              "      <td>Alabama</td>\n",
              "      <td>no</td>\n",
              "    </tr>\n",
              "  </tbody>\n",
              "</table>\n",
              "</div>\n",
              "      <button class=\"colab-df-convert\" onclick=\"convertToInteractive('df-2ed9c06e-6284-4671-8acb-682edfc9538f')\"\n",
              "              title=\"Convert this dataframe to an interactive table.\"\n",
              "              style=\"display:none;\">\n",
              "        \n",
              "  <svg xmlns=\"http://www.w3.org/2000/svg\" height=\"24px\"viewBox=\"0 0 24 24\"\n",
              "       width=\"24px\">\n",
              "    <path d=\"M0 0h24v24H0V0z\" fill=\"none\"/>\n",
              "    <path d=\"M18.56 5.44l.94 2.06.94-2.06 2.06-.94-2.06-.94-.94-2.06-.94 2.06-2.06.94zm-11 1L8.5 8.5l.94-2.06 2.06-.94-2.06-.94L8.5 2.5l-.94 2.06-2.06.94zm10 10l.94 2.06.94-2.06 2.06-.94-2.06-.94-.94-2.06-.94 2.06-2.06.94z\"/><path d=\"M17.41 7.96l-1.37-1.37c-.4-.4-.92-.59-1.43-.59-.52 0-1.04.2-1.43.59L10.3 9.45l-7.72 7.72c-.78.78-.78 2.05 0 2.83L4 21.41c.39.39.9.59 1.41.59.51 0 1.02-.2 1.41-.59l7.78-7.78 2.81-2.81c.8-.78.8-2.07 0-2.86zM5.41 20L4 18.59l7.72-7.72 1.47 1.35L5.41 20z\"/>\n",
              "  </svg>\n",
              "      </button>\n",
              "      \n",
              "  <style>\n",
              "    .colab-df-container {\n",
              "      display:flex;\n",
              "      flex-wrap:wrap;\n",
              "      gap: 12px;\n",
              "    }\n",
              "\n",
              "    .colab-df-convert {\n",
              "      background-color: #E8F0FE;\n",
              "      border: none;\n",
              "      border-radius: 50%;\n",
              "      cursor: pointer;\n",
              "      display: none;\n",
              "      fill: #1967D2;\n",
              "      height: 32px;\n",
              "      padding: 0 0 0 0;\n",
              "      width: 32px;\n",
              "    }\n",
              "\n",
              "    .colab-df-convert:hover {\n",
              "      background-color: #E2EBFA;\n",
              "      box-shadow: 0px 1px 2px rgba(60, 64, 67, 0.3), 0px 1px 3px 1px rgba(60, 64, 67, 0.15);\n",
              "      fill: #174EA6;\n",
              "    }\n",
              "\n",
              "    [theme=dark] .colab-df-convert {\n",
              "      background-color: #3B4455;\n",
              "      fill: #D2E3FC;\n",
              "    }\n",
              "\n",
              "    [theme=dark] .colab-df-convert:hover {\n",
              "      background-color: #434B5C;\n",
              "      box-shadow: 0px 1px 3px 1px rgba(0, 0, 0, 0.15);\n",
              "      filter: drop-shadow(0px 1px 2px rgba(0, 0, 0, 0.3));\n",
              "      fill: #FFFFFF;\n",
              "    }\n",
              "  </style>\n",
              "\n",
              "      <script>\n",
              "        const buttonEl =\n",
              "          document.querySelector('#df-2ed9c06e-6284-4671-8acb-682edfc9538f button.colab-df-convert');\n",
              "        buttonEl.style.display =\n",
              "          google.colab.kernel.accessAllowed ? 'block' : 'none';\n",
              "\n",
              "        async function convertToInteractive(key) {\n",
              "          const element = document.querySelector('#df-2ed9c06e-6284-4671-8acb-682edfc9538f');\n",
              "          const dataTable =\n",
              "            await google.colab.kernel.invokeFunction('convertToInteractive',\n",
              "                                                     [key], {});\n",
              "          if (!dataTable) return;\n",
              "\n",
              "          const docLinkHtml = 'Like what you see? Visit the ' +\n",
              "            '<a target=\"_blank\" href=https://colab.research.google.com/notebooks/data_table.ipynb>data table notebook</a>'\n",
              "            + ' to learn more about interactive tables.';\n",
              "          element.innerHTML = '';\n",
              "          dataTable['output_type'] = 'display_data';\n",
              "          await google.colab.output.renderOutput(dataTable, element);\n",
              "          const docLink = document.createElement('div');\n",
              "          docLink.innerHTML = docLinkHtml;\n",
              "          element.appendChild(docLink);\n",
              "        }\n",
              "      </script>\n",
              "    </div>\n",
              "  </div>\n",
              "  "
            ]
          },
          "metadata": {},
          "execution_count": 35
        }
      ]
    },
    {
      "cell_type": "code",
      "source": [
        "# выводим последние пять строк\n",
        "\n",
        "df.tail(5)"
      ],
      "metadata": {
        "colab": {
          "base_uri": "https://localhost:8080/",
          "height": 206
        },
        "id": "FQwqtd7Lv9SN",
        "outputId": "fc56c995-ec09-46a8-ca27-bd6aade67822"
      },
      "execution_count": null,
      "outputs": [
        {
          "output_type": "execute_result",
          "data": {
            "text/plain": [
              "      year  violent  murder  robbery  prisoners      afam      cauc      male  \\\n",
              "1169  1995    254.2     2.1     17.9        254  1.485849  73.71621  15.37098   \n",
              "1170  1996    249.7     3.3     20.4        289  1.521814  73.85796  15.44601   \n",
              "1171  1997    255.2     3.5     17.7        310  1.527818  73.92731  15.49400   \n",
              "1172  1998    247.6     4.8     16.2        326  1.558396  73.98515  15.51021   \n",
              "1173  1999    232.3     2.3     15.4        327  1.613004  74.04952  15.48013   \n",
              "\n",
              "      population    income   density    state  law  \n",
              "1169    0.478447  14070.16  0.004927  Wyoming  yes  \n",
              "1170    0.480085  14032.23  0.004944  Wyoming  yes  \n",
              "1171    0.480031  14790.98  0.004943  Wyoming  yes  \n",
              "1172    0.480045  15225.51  0.004944  Wyoming  yes  \n",
              "1173    0.479602  15765.07  0.004939  Wyoming  yes  "
            ],
            "text/html": [
              "\n",
              "  <div id=\"df-11a2e3b4-ebba-4cc7-a506-5390b4e3cbf9\">\n",
              "    <div class=\"colab-df-container\">\n",
              "      <div>\n",
              "<style scoped>\n",
              "    .dataframe tbody tr th:only-of-type {\n",
              "        vertical-align: middle;\n",
              "    }\n",
              "\n",
              "    .dataframe tbody tr th {\n",
              "        vertical-align: top;\n",
              "    }\n",
              "\n",
              "    .dataframe thead th {\n",
              "        text-align: right;\n",
              "    }\n",
              "</style>\n",
              "<table border=\"1\" class=\"dataframe\">\n",
              "  <thead>\n",
              "    <tr style=\"text-align: right;\">\n",
              "      <th></th>\n",
              "      <th>year</th>\n",
              "      <th>violent</th>\n",
              "      <th>murder</th>\n",
              "      <th>robbery</th>\n",
              "      <th>prisoners</th>\n",
              "      <th>afam</th>\n",
              "      <th>cauc</th>\n",
              "      <th>male</th>\n",
              "      <th>population</th>\n",
              "      <th>income</th>\n",
              "      <th>density</th>\n",
              "      <th>state</th>\n",
              "      <th>law</th>\n",
              "    </tr>\n",
              "  </thead>\n",
              "  <tbody>\n",
              "    <tr>\n",
              "      <th>1169</th>\n",
              "      <td>1995</td>\n",
              "      <td>254.2</td>\n",
              "      <td>2.1</td>\n",
              "      <td>17.9</td>\n",
              "      <td>254</td>\n",
              "      <td>1.485849</td>\n",
              "      <td>73.71621</td>\n",
              "      <td>15.37098</td>\n",
              "      <td>0.478447</td>\n",
              "      <td>14070.16</td>\n",
              "      <td>0.004927</td>\n",
              "      <td>Wyoming</td>\n",
              "      <td>yes</td>\n",
              "    </tr>\n",
              "    <tr>\n",
              "      <th>1170</th>\n",
              "      <td>1996</td>\n",
              "      <td>249.7</td>\n",
              "      <td>3.3</td>\n",
              "      <td>20.4</td>\n",
              "      <td>289</td>\n",
              "      <td>1.521814</td>\n",
              "      <td>73.85796</td>\n",
              "      <td>15.44601</td>\n",
              "      <td>0.480085</td>\n",
              "      <td>14032.23</td>\n",
              "      <td>0.004944</td>\n",
              "      <td>Wyoming</td>\n",
              "      <td>yes</td>\n",
              "    </tr>\n",
              "    <tr>\n",
              "      <th>1171</th>\n",
              "      <td>1997</td>\n",
              "      <td>255.2</td>\n",
              "      <td>3.5</td>\n",
              "      <td>17.7</td>\n",
              "      <td>310</td>\n",
              "      <td>1.527818</td>\n",
              "      <td>73.92731</td>\n",
              "      <td>15.49400</td>\n",
              "      <td>0.480031</td>\n",
              "      <td>14790.98</td>\n",
              "      <td>0.004943</td>\n",
              "      <td>Wyoming</td>\n",
              "      <td>yes</td>\n",
              "    </tr>\n",
              "    <tr>\n",
              "      <th>1172</th>\n",
              "      <td>1998</td>\n",
              "      <td>247.6</td>\n",
              "      <td>4.8</td>\n",
              "      <td>16.2</td>\n",
              "      <td>326</td>\n",
              "      <td>1.558396</td>\n",
              "      <td>73.98515</td>\n",
              "      <td>15.51021</td>\n",
              "      <td>0.480045</td>\n",
              "      <td>15225.51</td>\n",
              "      <td>0.004944</td>\n",
              "      <td>Wyoming</td>\n",
              "      <td>yes</td>\n",
              "    </tr>\n",
              "    <tr>\n",
              "      <th>1173</th>\n",
              "      <td>1999</td>\n",
              "      <td>232.3</td>\n",
              "      <td>2.3</td>\n",
              "      <td>15.4</td>\n",
              "      <td>327</td>\n",
              "      <td>1.613004</td>\n",
              "      <td>74.04952</td>\n",
              "      <td>15.48013</td>\n",
              "      <td>0.479602</td>\n",
              "      <td>15765.07</td>\n",
              "      <td>0.004939</td>\n",
              "      <td>Wyoming</td>\n",
              "      <td>yes</td>\n",
              "    </tr>\n",
              "  </tbody>\n",
              "</table>\n",
              "</div>\n",
              "      <button class=\"colab-df-convert\" onclick=\"convertToInteractive('df-11a2e3b4-ebba-4cc7-a506-5390b4e3cbf9')\"\n",
              "              title=\"Convert this dataframe to an interactive table.\"\n",
              "              style=\"display:none;\">\n",
              "        \n",
              "  <svg xmlns=\"http://www.w3.org/2000/svg\" height=\"24px\"viewBox=\"0 0 24 24\"\n",
              "       width=\"24px\">\n",
              "    <path d=\"M0 0h24v24H0V0z\" fill=\"none\"/>\n",
              "    <path d=\"M18.56 5.44l.94 2.06.94-2.06 2.06-.94-2.06-.94-.94-2.06-.94 2.06-2.06.94zm-11 1L8.5 8.5l.94-2.06 2.06-.94-2.06-.94L8.5 2.5l-.94 2.06-2.06.94zm10 10l.94 2.06.94-2.06 2.06-.94-2.06-.94-.94-2.06-.94 2.06-2.06.94z\"/><path d=\"M17.41 7.96l-1.37-1.37c-.4-.4-.92-.59-1.43-.59-.52 0-1.04.2-1.43.59L10.3 9.45l-7.72 7.72c-.78.78-.78 2.05 0 2.83L4 21.41c.39.39.9.59 1.41.59.51 0 1.02-.2 1.41-.59l7.78-7.78 2.81-2.81c.8-.78.8-2.07 0-2.86zM5.41 20L4 18.59l7.72-7.72 1.47 1.35L5.41 20z\"/>\n",
              "  </svg>\n",
              "      </button>\n",
              "      \n",
              "  <style>\n",
              "    .colab-df-container {\n",
              "      display:flex;\n",
              "      flex-wrap:wrap;\n",
              "      gap: 12px;\n",
              "    }\n",
              "\n",
              "    .colab-df-convert {\n",
              "      background-color: #E8F0FE;\n",
              "      border: none;\n",
              "      border-radius: 50%;\n",
              "      cursor: pointer;\n",
              "      display: none;\n",
              "      fill: #1967D2;\n",
              "      height: 32px;\n",
              "      padding: 0 0 0 0;\n",
              "      width: 32px;\n",
              "    }\n",
              "\n",
              "    .colab-df-convert:hover {\n",
              "      background-color: #E2EBFA;\n",
              "      box-shadow: 0px 1px 2px rgba(60, 64, 67, 0.3), 0px 1px 3px 1px rgba(60, 64, 67, 0.15);\n",
              "      fill: #174EA6;\n",
              "    }\n",
              "\n",
              "    [theme=dark] .colab-df-convert {\n",
              "      background-color: #3B4455;\n",
              "      fill: #D2E3FC;\n",
              "    }\n",
              "\n",
              "    [theme=dark] .colab-df-convert:hover {\n",
              "      background-color: #434B5C;\n",
              "      box-shadow: 0px 1px 3px 1px rgba(0, 0, 0, 0.15);\n",
              "      filter: drop-shadow(0px 1px 2px rgba(0, 0, 0, 0.3));\n",
              "      fill: #FFFFFF;\n",
              "    }\n",
              "  </style>\n",
              "\n",
              "      <script>\n",
              "        const buttonEl =\n",
              "          document.querySelector('#df-11a2e3b4-ebba-4cc7-a506-5390b4e3cbf9 button.colab-df-convert');\n",
              "        buttonEl.style.display =\n",
              "          google.colab.kernel.accessAllowed ? 'block' : 'none';\n",
              "\n",
              "        async function convertToInteractive(key) {\n",
              "          const element = document.querySelector('#df-11a2e3b4-ebba-4cc7-a506-5390b4e3cbf9');\n",
              "          const dataTable =\n",
              "            await google.colab.kernel.invokeFunction('convertToInteractive',\n",
              "                                                     [key], {});\n",
              "          if (!dataTable) return;\n",
              "\n",
              "          const docLinkHtml = 'Like what you see? Visit the ' +\n",
              "            '<a target=\"_blank\" href=https://colab.research.google.com/notebooks/data_table.ipynb>data table notebook</a>'\n",
              "            + ' to learn more about interactive tables.';\n",
              "          element.innerHTML = '';\n",
              "          dataTable['output_type'] = 'display_data';\n",
              "          await google.colab.output.renderOutput(dataTable, element);\n",
              "          const docLink = document.createElement('div');\n",
              "          docLink.innerHTML = docLinkHtml;\n",
              "          element.appendChild(docLink);\n",
              "        }\n",
              "      </script>\n",
              "    </div>\n",
              "  </div>\n",
              "  "
            ]
          },
          "metadata": {},
          "execution_count": 36
        }
      ]
    },
    {
      "cell_type": "markdown",
      "source": [
        "# Типы признаков"
      ],
      "metadata": {
        "id": "yElOdMc33Gzs"
      }
    },
    {
      "cell_type": "code",
      "source": [
        "# вывод информации о признаках\n",
        "\n",
        "df.info()"
      ],
      "metadata": {
        "colab": {
          "base_uri": "https://localhost:8080/"
        },
        "id": "t7eJ2oJw3J6u",
        "outputId": "97a1605e-a8a7-401a-f687-5c619442a7c4"
      },
      "execution_count": null,
      "outputs": [
        {
          "output_type": "stream",
          "name": "stdout",
          "text": [
            "<class 'pandas.core.frame.DataFrame'>\n",
            "Int64Index: 1173 entries, 1 to 1173\n",
            "Data columns (total 13 columns):\n",
            " #   Column      Non-Null Count  Dtype  \n",
            "---  ------      --------------  -----  \n",
            " 0   year        1173 non-null   int64  \n",
            " 1   violent     1173 non-null   float64\n",
            " 2   murder      1173 non-null   float64\n",
            " 3   robbery     1173 non-null   float64\n",
            " 4   prisoners   1173 non-null   int64  \n",
            " 5   afam        1173 non-null   float64\n",
            " 6   cauc        1173 non-null   float64\n",
            " 7   male        1173 non-null   float64\n",
            " 8   population  1173 non-null   float64\n",
            " 9   income      1173 non-null   float64\n",
            " 10  density     1173 non-null   float64\n",
            " 11  state       1173 non-null   object \n",
            " 12  law         1173 non-null   object \n",
            "dtypes: float64(9), int64(2), object(2)\n",
            "memory usage: 128.3+ KB\n"
          ]
        }
      ]
    },
    {
      "cell_type": "markdown",
      "source": [
        "Типы признаков:\n",
        "\n",
        "1) state - номинальные категоризованные, неметрическая номинативная шкала;\n",
        "\n",
        "2) year - обычно года относят к количественным признакам (метрическая интервальная шкала), но в данном случае разумнее будет рассматривать год как категорию;\n",
        "\n",
        "3) violent - количественные, метрическая шкала отношений;\n",
        "\n",
        "4) murder -  количественные, метрическая шкала отношений;\n",
        "\n",
        "5) robbery -  количественные, метрическая шкала отношений;\n",
        "\n",
        "6) prisoners -  количественные, метрическая шкала отношений;\n",
        "\n",
        "7) afam - количественные, метрическая шкала отношений;\n",
        "\n",
        "8) caucasus - количественные, метрическая шкала отношений;\n",
        "\n",
        "9) male - количественные, метрическая шкала отношений;\n",
        "\n",
        "10) population - количественные, абсолютная метрическая шкала;\n",
        "\n",
        "11) income - количественные, метрическая шкала отношений;\n",
        "\n",
        "12) density - количественные, метрическая шкала отношений;\n",
        "\n",
        "13) law - номинальные категоризованные, неметрическая номинативная шкала;"
      ],
      "metadata": {
        "id": "p-n8BlVM3Jft"
      }
    },
    {
      "cell_type": "markdown",
      "source": [
        "# Проверка на пропуски"
      ],
      "metadata": {
        "id": "8LCy5tFd2L55"
      }
    },
    {
      "cell_type": "code",
      "source": [
        "df.isna().sum() #количество пропущенных значений"
      ],
      "metadata": {
        "colab": {
          "base_uri": "https://localhost:8080/"
        },
        "id": "jEGm9n0HBTT9",
        "outputId": "8faf5bdc-bee4-42af-b362-f886fdb8436c"
      },
      "execution_count": null,
      "outputs": [
        {
          "output_type": "execute_result",
          "data": {
            "text/plain": [
              "year          0\n",
              "violent       0\n",
              "murder        0\n",
              "robbery       0\n",
              "prisoners     0\n",
              "afam          0\n",
              "cauc          0\n",
              "male          0\n",
              "population    0\n",
              "income        0\n",
              "density       0\n",
              "state         0\n",
              "law           0\n",
              "dtype: int64"
            ]
          },
          "metadata": {},
          "execution_count": 43
        }
      ]
    },
    {
      "cell_type": "markdown",
      "source": [
        "В представленном наборе данных отсутствуют пропущенные значения.\n",
        "\n",
        "Если бы они были, то потребовались бы дополнительные исследования, на основании которых с пропусками можно было поступить одним из следующих образом:\n",
        "\n",
        "- удаление пропусков (строки)\n",
        "\n",
        "- отброс признаков, содержащих слишком много пропущенных значений (столбцы)\n",
        "\n",
        "- замена пропущенных значений (например, медианой или средним для количественных, самым частым значением для категориальных)\n",
        "\n",
        "- сохранить пропущенные значения, если они являются целью нашего исследования"
      ],
      "metadata": {
        "id": "LrfvjqJ0D2rq"
      }
    },
    {
      "cell_type": "markdown",
      "source": [
        "# Выводы"
      ],
      "metadata": {
        "id": "KB4aGN2oFPbE"
      }
    },
    {
      "cell_type": "markdown",
      "source": [
        "Датасет содержит 13 признаков, 3 из которых являются категориальными, остальные - количественными, пропуски отсутствуют. \n",
        "\n",
        "Дальнейшее исследование данных предполагает:\n",
        "\n",
        "- проверку на дубликаты\n",
        "\n",
        "- проверку датасета на сбалансированность (на всякий случай, поскольку в описании датасета сказано, что он сбалансирован)\n",
        "\n",
        "- проверку распределений данных (в т.ч. выбросы и их обработка), парных зависимостей\n",
        "\n",
        "- отбор информативных признаков, проверка корреляции"
      ],
      "metadata": {
        "id": "XbHxpfrYFTdL"
      }
    }
  ]
}